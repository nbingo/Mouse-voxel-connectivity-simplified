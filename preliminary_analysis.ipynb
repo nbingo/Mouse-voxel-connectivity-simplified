{
 "cells": [
  {
   "cell_type": "code",
   "execution_count": 1,
   "metadata": {},
   "outputs": [],
   "source": [
    "import pandas as pd\n",
    "import numpy as np\n",
    "import pickle\n",
    "import seaborn as sns\n",
    "import matplotlib.pyplot as plt\n",
    "from ProjPredictor import ProjPredictor\n",
    "import os\n",
    "from skimage import io\n",
    "from skimage.transform import resize\n",
    "import napari\n",
    "%gui qt"
   ]
  },
  {
   "cell_type": "code",
   "execution_count": null,
   "metadata": {},
   "outputs": [],
   "source": [
    "with open('dentate_projs', 'rb') as dprojs:\n",
    "    d = pickle.load(dprojs)\n",
    "    df = pd.DataFrame(d, index=[0])"
   ]
  },
  {
   "cell_type": "code",
   "execution_count": null,
   "metadata": {},
   "outputs": [],
   "source": [
    "df = df.transpose()"
   ]
  },
  {
   "cell_type": "code",
   "execution_count": null,
   "metadata": {},
   "outputs": [],
   "source": [
    "pd.DataFrame([1,2,3])"
   ]
  },
  {
   "cell_type": "code",
   "execution_count": null,
   "metadata": {},
   "outputs": [],
   "source": [
    "sns.barplot(data=df.transpose())"
   ]
  },
  {
   "cell_type": "code",
   "execution_count": null,
   "metadata": {},
   "outputs": [],
   "source": [
    "sns.barplot(data=tips, x='day', y='tip')"
   ]
  },
  {
   "cell_type": "code",
   "execution_count": null,
   "metadata": {},
   "outputs": [],
   "source": [
    "pp = ProjPredictor(image_file='dentate_signal_aligned_100um_binarized.tif',\n",
    "                   source_area='Dentate nucleus',\n",
    "                   verbose=True)\n",
    "pp.projections = 'dentate_proj_signal_aligned_100um.tif'\n",
    "areas = ['Somatomotor areas',\n",
    "         'Somatosensory areas',\n",
    "         'Gustatory areas',\n",
    "         'Visceral area',\n",
    "         'Auditory areas',\n",
    "         'Visual areas',\n",
    "         'Anterior cingulate area',\n",
    "         'Orbital area']\n",
    "pp.save_proj_by_area(areas, 'dentate_projs')"
   ]
  },
  {
   "cell_type": "code",
   "execution_count": null,
   "metadata": {},
   "outputs": [],
   "source": [
    "pp.projections = 'interposed_proj_signal_aligned_100um.tif'\n",
    "pp.source_area = 'Interposed nucleus'\n",
    "pp.save_proj_by_area(areas, 'interposed_projs')"
   ]
  },
  {
   "cell_type": "code",
   "execution_count": null,
   "metadata": {},
   "outputs": [],
   "source": [
    "d_projs = pd.read_pickle('dentate_projs')\n",
    "i_projs = pd.read_pickle('interposed_projs')"
   ]
  },
  {
   "cell_type": "code",
   "execution_count": null,
   "metadata": {},
   "outputs": [],
   "source": [
    "df = pd.concat((d_projs, i_projs))"
   ]
  },
  {
   "cell_type": "code",
   "execution_count": 13,
   "metadata": {},
   "outputs": [],
   "source": [
    "files = os.listdir('./proj_by_area')\n",
    "# files = files[list(map(lambda s: s.endswith('proj_by_area'), files))]\n",
    "projs = [pd.read_pickle('./proj_by_area/' + file) for file in files if 'filter-Thalamus' in file and 'norm' in file]\n",
    "df = pd.concat(projs)"
   ]
  },
  {
   "cell_type": "code",
   "execution_count": 28,
   "metadata": {},
   "outputs": [
    {
     "data": {
      "text/html": [
       "<div>\n",
       "<style scoped>\n",
       "    .dataframe tbody tr th:only-of-type {\n",
       "        vertical-align: middle;\n",
       "    }\n",
       "\n",
       "    .dataframe tbody tr th {\n",
       "        vertical-align: top;\n",
       "    }\n",
       "\n",
       "    .dataframe thead th {\n",
       "        text-align: right;\n",
       "    }\n",
       "</style>\n",
       "<table border=\"1\" class=\"dataframe\">\n",
       "  <thead>\n",
       "    <tr style=\"text-align: right;\">\n",
       "      <th></th>\n",
       "      <th>Source area</th>\n",
       "      <th>Target area</th>\n",
       "      <th>Projection strength</th>\n",
       "      <th>Normalized by source</th>\n",
       "      <th>Normalized by target</th>\n",
       "      <th>Filter area</th>\n",
       "    </tr>\n",
       "  </thead>\n",
       "  <tbody>\n",
       "    <tr>\n",
       "      <th>0</th>\n",
       "      <td>Dentate nucleus</td>\n",
       "      <td>Somatomotor areas</td>\n",
       "      <td>1.092152e-05</td>\n",
       "      <td>True</td>\n",
       "      <td>True</td>\n",
       "      <td>Thalamus</td>\n",
       "    </tr>\n",
       "    <tr>\n",
       "      <th>1</th>\n",
       "      <td>Dentate nucleus</td>\n",
       "      <td>Visual areas</td>\n",
       "      <td>6.565735e-07</td>\n",
       "      <td>True</td>\n",
       "      <td>True</td>\n",
       "      <td>Thalamus</td>\n",
       "    </tr>\n",
       "    <tr>\n",
       "      <th>2</th>\n",
       "      <td>Dentate nucleus</td>\n",
       "      <td>Orbital area</td>\n",
       "      <td>2.319712e-05</td>\n",
       "      <td>True</td>\n",
       "      <td>True</td>\n",
       "      <td>Thalamus</td>\n",
       "    </tr>\n",
       "    <tr>\n",
       "      <th>3</th>\n",
       "      <td>Dentate nucleus</td>\n",
       "      <td>Prelimbic area</td>\n",
       "      <td>2.321448e-05</td>\n",
       "      <td>True</td>\n",
       "      <td>True</td>\n",
       "      <td>Thalamus</td>\n",
       "    </tr>\n",
       "    <tr>\n",
       "      <th>4</th>\n",
       "      <td>Dentate nucleus</td>\n",
       "      <td>Infralimbic area</td>\n",
       "      <td>1.462257e-05</td>\n",
       "      <td>True</td>\n",
       "      <td>True</td>\n",
       "      <td>Thalamus</td>\n",
       "    </tr>\n",
       "    <tr>\n",
       "      <th>...</th>\n",
       "      <td>...</td>\n",
       "      <td>...</td>\n",
       "      <td>...</td>\n",
       "      <td>...</td>\n",
       "      <td>...</td>\n",
       "      <td>...</td>\n",
       "    </tr>\n",
       "    <tr>\n",
       "      <th>0</th>\n",
       "      <td>Dentate nucleus</td>\n",
       "      <td>Somatomotor areas</td>\n",
       "      <td>1.835605e-05</td>\n",
       "      <td>True</td>\n",
       "      <td>True</td>\n",
       "      <td>Thalamus</td>\n",
       "    </tr>\n",
       "    <tr>\n",
       "      <th>1</th>\n",
       "      <td>Dentate nucleus</td>\n",
       "      <td>Visual areas</td>\n",
       "      <td>1.128382e-06</td>\n",
       "      <td>True</td>\n",
       "      <td>True</td>\n",
       "      <td>Thalamus</td>\n",
       "    </tr>\n",
       "    <tr>\n",
       "      <th>2</th>\n",
       "      <td>Dentate nucleus</td>\n",
       "      <td>Orbital area</td>\n",
       "      <td>3.054720e-05</td>\n",
       "      <td>True</td>\n",
       "      <td>True</td>\n",
       "      <td>Thalamus</td>\n",
       "    </tr>\n",
       "    <tr>\n",
       "      <th>3</th>\n",
       "      <td>Dentate nucleus</td>\n",
       "      <td>Prelimbic area</td>\n",
       "      <td>2.866980e-05</td>\n",
       "      <td>True</td>\n",
       "      <td>True</td>\n",
       "      <td>Thalamus</td>\n",
       "    </tr>\n",
       "    <tr>\n",
       "      <th>4</th>\n",
       "      <td>Dentate nucleus</td>\n",
       "      <td>Infralimbic area</td>\n",
       "      <td>1.730817e-05</td>\n",
       "      <td>True</td>\n",
       "      <td>True</td>\n",
       "      <td>Thalamus</td>\n",
       "    </tr>\n",
       "  </tbody>\n",
       "</table>\n",
       "<p>100 rows × 6 columns</p>\n",
       "</div>"
      ],
      "text/plain": [
       "        Source area        Target area  Projection strength  \\\n",
       "0   Dentate nucleus  Somatomotor areas         1.092152e-05   \n",
       "1   Dentate nucleus       Visual areas         6.565735e-07   \n",
       "2   Dentate nucleus       Orbital area         2.319712e-05   \n",
       "3   Dentate nucleus     Prelimbic area         2.321448e-05   \n",
       "4   Dentate nucleus   Infralimbic area         1.462257e-05   \n",
       "..              ...                ...                  ...   \n",
       "0   Dentate nucleus  Somatomotor areas         1.835605e-05   \n",
       "1   Dentate nucleus       Visual areas         1.128382e-06   \n",
       "2   Dentate nucleus       Orbital area         3.054720e-05   \n",
       "3   Dentate nucleus     Prelimbic area         2.866980e-05   \n",
       "4   Dentate nucleus   Infralimbic area         1.730817e-05   \n",
       "\n",
       "    Normalized by source  Normalized by target Filter area  \n",
       "0                   True                  True    Thalamus  \n",
       "1                   True                  True    Thalamus  \n",
       "2                   True                  True    Thalamus  \n",
       "3                   True                  True    Thalamus  \n",
       "4                   True                  True    Thalamus  \n",
       "..                   ...                   ...         ...  \n",
       "0                   True                  True    Thalamus  \n",
       "1                   True                  True    Thalamus  \n",
       "2                   True                  True    Thalamus  \n",
       "3                   True                  True    Thalamus  \n",
       "4                   True                  True    Thalamus  \n",
       "\n",
       "[100 rows x 6 columns]"
      ]
     },
     "execution_count": 28,
     "metadata": {},
     "output_type": "execute_result"
    }
   ],
   "source": [
    "df[(df['Normalized by source'] == True) & (df['Normalized by target'] == True)]"
   ]
  },
  {
   "cell_type": "code",
   "execution_count": 31,
   "metadata": {},
   "outputs": [
    {
     "data": {
      "image/png": "[encoded data removed]",
      "text/plain": [
       "<Figure size 720x720 with 1 Axes>"
      ]
     },
     "metadata": {
      "needs_background": "light"
     },
     "output_type": "display_data"
    }
   ],
   "source": [
    "plt.figure(figsize=(10,10))\n",
    "pal = sns.color_palette(\"RdBu_r\")\n",
    "filtered_data = df[(df['Normalized by source'] == True) & (df['Normalized by target'] == False)]\n",
    "ax = sns.boxplot(data=filtered_data, x='Target area', y='Projection strength', \n",
    "                 hue='Source area', \n",
    "                 hue_order=['Dentate nucleus', 'Interposed nucleus', 'Fastigial nucleus'], \n",
    "                 palette=pal)\n",
    "ax.set_xticklabels(ax.get_xticklabels(), rotation=40, ha=\"right\")\n",
    "ax.get_figure().savefig('prelim_plot.pdf')"
   ]
  },
  {
   "cell_type": "code",
   "execution_count": null,
   "metadata": {},
   "outputs": [],
   "source": [
    "1 in d.values()"
   ]
  },
  {
   "cell_type": "code",
   "execution_count": null,
   "metadata": {},
   "outputs": [],
   "source": [
    "pd.DataFrame({'hi': [0,1], 'word': ['b','bye']})"
   ]
  },
  {
   "cell_type": "code",
   "execution_count": null,
   "metadata": {},
   "outputs": [],
   "source": [
    "im = io.imread('datafornomi/DNfornomi/brain175/transformix_output/result_fixed.tif')"
   ]
  },
  {
   "cell_type": "code",
   "execution_count": null,
   "metadata": {},
   "outputs": [],
   "source": [
    "imo = io.imread('dentate_signal_aligned_100um_binarized.tif')"
   ]
  },
  {
   "cell_type": "code",
   "execution_count": null,
   "metadata": {},
   "outputs": [],
   "source": [
    "v = napari.view_image(np.flipud(resize(im, imo.shape)))\n",
    "v.add_image(imo)"
   ]
  },
  {
   "cell_type": "code",
   "execution_count": null,
   "metadata": {},
   "outputs": [],
   "source": [
    "imo.shape"
   ]
  },
  {
   "cell_type": "code",
   "execution_count": null,
   "metadata": {},
   "outputs": [],
   "source": [
    "im.shape"
   ]
  },
  {
   "cell_type": "code",
   "execution_count": 10,
   "metadata": {},
   "outputs": [],
   "source": [
    "im_path = 'datafornomi/DNfornomi/brain175/transformix_output_ilastik/result_fixed.tif'\n",
    "im = io.imread(im_path)"
   ]
  },
  {
   "cell_type": "code",
   "execution_count": 11,
   "metadata": {},
   "outputs": [
    {
     "data": {
      "text/plain": [
       "<Image layer 'Image [1]' at 0x210267f50>"
      ]
     },
     "execution_count": 11,
     "metadata": {},
     "output_type": "execute_result"
    }
   ],
   "source": [
    "real = np.copy(im)\n",
    "v = napari.view_image(real)\n",
    "midpt = int(im.shape[2] / 2)\n",
    "im[:, :, midpt:] = 0\n",
    "v.add_image(im)"
   ]
  },
  {
   "cell_type": "code",
   "execution_count": 12,
   "metadata": {},
   "outputs": [],
   "source": [
    "io.imsave('test_correct_side.tif', im.astype(np.float32))"
   ]
  },
  {
   "cell_type": "code",
   "execution_count": 8,
   "metadata": {},
   "outputs": [
    {
     "name": "stdout",
     "output_type": "stream",
     "text": [
      "Loading Voxel Model Cache...\n",
      "Extracting voxel array, source mask, and target mask...\n",
      "Loading image \"test_correct_side.tif\"...\n",
      "Permuting, padding, and reflecting source image...\n",
      "Filtering source image by selected structures...\n"
     ]
    },
    {
     "ename": "ValueError",
     "evalue": "operands could not be broadcast together with shapes (398,275,380) (132,80,114) ",
     "output_type": "error",
     "traceback": [
      "\u001b[0;31m---------------------------------------------------------------------------\u001b[0m",
      "\u001b[0;31mValueError\u001b[0m                                Traceback (most recent call last)",
      "\u001b[0;32m<ipython-input-8-60d7edc1a472>\u001b[0m in \u001b[0;36m<module>\u001b[0;34m\u001b[0m\n\u001b[1;32m      1\u001b[0m \u001b[0mpp\u001b[0m \u001b[0;34m=\u001b[0m \u001b[0mProjPredictor\u001b[0m\u001b[0;34m(\u001b[0m\u001b[0mverbose\u001b[0m\u001b[0;34m=\u001b[0m\u001b[0;32mTrue\u001b[0m\u001b[0;34m,\u001b[0m \u001b[0mimage_file\u001b[0m\u001b[0;34m=\u001b[0m\u001b[0;34m'test_correct_side.tif'\u001b[0m\u001b[0;34m)\u001b[0m\u001b[0;34m\u001b[0m\u001b[0;34m\u001b[0m\u001b[0m\n\u001b[1;32m      2\u001b[0m \u001b[0mpp\u001b[0m\u001b[0;34m.\u001b[0m\u001b[0mthreshold\u001b[0m\u001b[0;34m(\u001b[0m\u001b[0;36m0.2\u001b[0m\u001b[0;34m)\u001b[0m\u001b[0;34m\u001b[0m\u001b[0;34m\u001b[0m\u001b[0m\n\u001b[0;32m----> 3\u001b[0;31m \u001b[0mpp\u001b[0m\u001b[0;34m.\u001b[0m\u001b[0mfilter_by_name\u001b[0m\u001b[0;34m(\u001b[0m\u001b[0;34m'Thalamus'\u001b[0m\u001b[0;34m)\u001b[0m\u001b[0;34m\u001b[0m\u001b[0;34m\u001b[0m\u001b[0m\n\u001b[0m\u001b[1;32m      4\u001b[0m \u001b[0mpp\u001b[0m\u001b[0;34m.\u001b[0m\u001b[0mvol_to_probs\u001b[0m\u001b[0;34m(\u001b[0m\u001b[0;34m)\u001b[0m\u001b[0;34m\u001b[0m\u001b[0;34m\u001b[0m\u001b[0m\n\u001b[1;32m      5\u001b[0m \u001b[0mpp\u001b[0m\u001b[0;34m.\u001b[0m\u001b[0msave_projections\u001b[0m\u001b[0;34m(\u001b[0m\u001b[0;34m'test_correct_side_proj.tiff'\u001b[0m\u001b[0;34m)\u001b[0m\u001b[0;34m\u001b[0m\u001b[0;34m\u001b[0m\u001b[0m\n",
      "\u001b[0;32m~/Desktop/Stanford/LuoLab/Mouse-voxel-connectivity-simplified/ProjPredictor.py\u001b[0m in \u001b[0;36mfilter_by_name\u001b[0;34m(self, structure_name)\u001b[0m\n\u001b[1;32m    290\u001b[0m         \u001b[0mself\u001b[0m\u001b[0;34m.\u001b[0m\u001b[0mfilter_area\u001b[0m \u001b[0;34m=\u001b[0m \u001b[0mstructure_name\u001b[0m\u001b[0;34m\u001b[0m\u001b[0;34m\u001b[0m\u001b[0m\n\u001b[1;32m    291\u001b[0m         \u001b[0mids\u001b[0m \u001b[0;34m=\u001b[0m \u001b[0mself\u001b[0m\u001b[0;34m.\u001b[0m\u001b[0mstruct_names_to_ids\u001b[0m\u001b[0;34m(\u001b[0m\u001b[0mstructure_name\u001b[0m\u001b[0;34m)\u001b[0m\u001b[0;34m\u001b[0m\u001b[0;34m\u001b[0m\u001b[0m\n\u001b[0;32m--> 292\u001b[0;31m         \u001b[0mself\u001b[0m\u001b[0;34m.\u001b[0m\u001b[0m_filter_by_id\u001b[0m\u001b[0;34m(\u001b[0m\u001b[0mids\u001b[0m\u001b[0;34m)\u001b[0m\u001b[0;34m\u001b[0m\u001b[0;34m\u001b[0m\u001b[0m\n\u001b[0m\u001b[1;32m    293\u001b[0m \u001b[0;34m\u001b[0m\u001b[0m\n\u001b[1;32m    294\u001b[0m     \u001b[0;32mdef\u001b[0m \u001b[0mstruct_names_to_ids\u001b[0m\u001b[0;34m(\u001b[0m\u001b[0mself\u001b[0m\u001b[0;34m,\u001b[0m \u001b[0mstructure_name\u001b[0m\u001b[0;34m:\u001b[0m \u001b[0mUnion\u001b[0m\u001b[0;34m[\u001b[0m\u001b[0mstr\u001b[0m\u001b[0;34m,\u001b[0m \u001b[0mList\u001b[0m\u001b[0;34m[\u001b[0m\u001b[0mstr\u001b[0m\u001b[0;34m]\u001b[0m\u001b[0;34m]\u001b[0m\u001b[0;34m)\u001b[0m \u001b[0;34m->\u001b[0m \u001b[0mList\u001b[0m\u001b[0;34m[\u001b[0m\u001b[0mint\u001b[0m\u001b[0;34m]\u001b[0m\u001b[0;34m:\u001b[0m\u001b[0;34m\u001b[0m\u001b[0;34m\u001b[0m\u001b[0m\n",
      "\u001b[0;32m~/Desktop/Stanford/LuoLab/Mouse-voxel-connectivity-simplified/ProjPredictor.py\u001b[0m in \u001b[0;36m_filter_by_id\u001b[0;34m(self, structure_id)\u001b[0m\n\u001b[1;32m    257\u001b[0m             \u001b[0mprint\u001b[0m\u001b[0;34m(\u001b[0m\u001b[0;34m'Filtering source image by selected structures...'\u001b[0m\u001b[0;34m)\u001b[0m\u001b[0;34m\u001b[0m\u001b[0;34m\u001b[0m\u001b[0m\n\u001b[1;32m    258\u001b[0m         \u001b[0mmask\u001b[0m \u001b[0;34m=\u001b[0m \u001b[0mself\u001b[0m\u001b[0;34m.\u001b[0m\u001b[0mstruct_ids_to_mask\u001b[0m\u001b[0;34m(\u001b[0m\u001b[0mstructure_id\u001b[0m\u001b[0;34m)\u001b[0m\u001b[0;34m\u001b[0m\u001b[0;34m\u001b[0m\u001b[0m\n\u001b[0;32m--> 259\u001b[0;31m         \u001b[0mself\u001b[0m\u001b[0;34m.\u001b[0m\u001b[0m_image\u001b[0m \u001b[0;34m=\u001b[0m \u001b[0mself\u001b[0m\u001b[0;34m.\u001b[0m\u001b[0m_image\u001b[0m \u001b[0;34m*\u001b[0m \u001b[0mmask\u001b[0m\u001b[0;34m\u001b[0m\u001b[0;34m\u001b[0m\u001b[0m\n\u001b[0m\u001b[1;32m    260\u001b[0m \u001b[0;34m\u001b[0m\u001b[0m\n\u001b[1;32m    261\u001b[0m     \u001b[0;32mdef\u001b[0m \u001b[0mstruct_ids_to_mask\u001b[0m\u001b[0;34m(\u001b[0m\u001b[0mself\u001b[0m\u001b[0;34m,\u001b[0m \u001b[0mstructure_id\u001b[0m\u001b[0;34m:\u001b[0m \u001b[0mUnion\u001b[0m\u001b[0;34m[\u001b[0m\u001b[0mint\u001b[0m\u001b[0;34m,\u001b[0m \u001b[0mList\u001b[0m\u001b[0;34m[\u001b[0m\u001b[0mint\u001b[0m\u001b[0;34m]\u001b[0m\u001b[0;34m]\u001b[0m\u001b[0;34m)\u001b[0m \u001b[0;34m->\u001b[0m \u001b[0mnp\u001b[0m\u001b[0;34m.\u001b[0m\u001b[0marray\u001b[0m\u001b[0;34m:\u001b[0m\u001b[0;34m\u001b[0m\u001b[0;34m\u001b[0m\u001b[0m\n",
      "\u001b[0;31mValueError\u001b[0m: operands could not be broadcast together with shapes (398,275,380) (132,80,114) "
     ]
    }
   ],
   "source": [
    "pp = ProjPredictor(verbose=True, image_file='test_correct_side.tif')\n",
    "pp.threshold(0.2)\n",
    "pp.filter_by_name('Thalamus')\n",
    "pp.vol_to_probs()\n",
    "pp.save_projections('test_correct_side_proj.tiff')"
   ]
  },
  {
   "cell_type": "code",
   "execution_count": null,
   "metadata": {},
   "outputs": [],
   "source": [
    "io.imread('test_correct_side.tif').shape"
   ]
  },
  {
   "cell_type": "code",
   "execution_count": null,
   "metadata": {},
   "outputs": [],
   "source": [
    "io.imread(im_path).shape"
   ]
  },
  {
   "cell_type": "code",
   "execution_count": null,
   "metadata": {},
   "outputs": [],
   "source": []
  }
 ],
 "metadata": {
  "kernelspec": {
   "display_name": "Python 3",
   "language": "python",
   "name": "python3"
  },
  "language_info": {
   "codemirror_mode": {
    "name": "ipython",
    "version": 3
   },
   "file_extension": ".py",
   "mimetype": "text/x-python",
   "name": "python",
   "nbconvert_exporter": "python",
   "pygments_lexer": "ipython3",
   "version": "3.7.4"
  }
 },
 "nbformat": 4,
 "nbformat_minor": 2
}
